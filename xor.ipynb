{
 "cells": [
  {
   "cell_type": "code",
   "execution_count": null,
   "id": "76af550f-311f-4665-ae2e-e454bd987252",
   "metadata": {},
   "outputs": [],
   "source": [
    "import tensorflow as tf\n",
    "import numpy as np"
   ]
  },
  {
   "cell_type": "code",
   "execution_count": null,
   "id": "78475b52-de98-420e-9906-c8dab07fe5f2",
   "metadata": {},
   "outputs": [],
   "source": [
    "x_train = np.array([[0, 0], [0, 1], [1, 0], [1, 1]])\n",
    "y_train = np.array([[0], [1], [1], [0]])"
   ]
  },
  {
   "cell_type": "code",
   "execution_count": null,
   "id": "0dfaf1e3-183b-44a3-8eb3-74c0238f1477",
   "metadata": {},
   "outputs": [],
   "source": [
    "model = tf.keras.Sequential([\n",
    "    tf.keras.Input(shape=(2,)),\n",
    "    tf.keras.layers.Dense(4, activation='sigmoid'),\n",
    "    tf.keras.layers.Dense(1, activation='sigmoid')\n",
    "])"
   ]
  },
  {
   "cell_type": "code",
   "execution_count": null,
   "id": "e896fcc4-4e8d-42b0-8b25-f702c62ea6b7",
   "metadata": {},
   "outputs": [],
   "source": [
    "model.compile(optimizer='adam', loss='binary_crossentropy', metrics=['accuracy'])"
   ]
  },
  {
   "cell_type": "code",
   "execution_count": null,
   "id": "374d8abe-b266-4f05-8283-734aa3e57a68",
   "metadata": {
    "scrolled": true
   },
   "outputs": [],
   "source": [
    "model.fit(x_train, y_train, epochs=5000, verbose=0)"
   ]
  },
  {
   "cell_type": "code",
   "execution_count": null,
   "id": "6b3403b1-0510-49ec-8d57-ed2eed859896",
   "metadata": {},
   "outputs": [],
   "source": [
    "loss, accuracy = model.evaluate(x_train, y_train)\n",
    "print(f\"{accuracy=}\")"
   ]
  },
  {
   "cell_type": "code",
   "execution_count": null,
   "id": "cce56de8-3ff4-46ed-9a32-e193b017a038",
   "metadata": {},
   "outputs": [],
   "source": [
    "predictions = model.predict(x_train)\n",
    "print(f\"{predictions=}\")"
   ]
  }
 ],
 "metadata": {
  "kernelspec": {
   "display_name": "Python 3 (ipykernel)",
   "language": "python",
   "name": "python3"
  },
  "language_info": {
   "codemirror_mode": {
    "name": "ipython",
    "version": 3
   },
   "file_extension": ".py",
   "mimetype": "text/x-python",
   "name": "python",
   "nbconvert_exporter": "python",
   "pygments_lexer": "ipython3",
   "version": "3.11.9"
  }
 },
 "nbformat": 4,
 "nbformat_minor": 5
}
