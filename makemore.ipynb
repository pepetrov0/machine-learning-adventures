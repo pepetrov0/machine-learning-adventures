{
 "cells": [
  {
   "cell_type": "code",
   "execution_count": null,
   "id": "d5343b0b-b032-4663-ab09-2a8c0b275b69",
   "metadata": {},
   "outputs": [],
   "source": [
    "import tensorflow as tf\n",
    "import numpy as np\n",
    "import random"
   ]
  },
  {
   "cell_type": "code",
   "execution_count": null,
   "id": "bd978155-b75a-42b7-b635-96f1fba18ecc",
   "metadata": {},
   "outputs": [],
   "source": [
    "words = open('names.txt', 'r').read().splitlines()\n",
    "chars = sorted(list(set(''.join(words + ['.']))))\n",
    "stoi = {s:i for i,s in enumerate(chars)}\n",
    "itos = {i:s for s,i in stoi.items()}\n",
    "stoi"
   ]
  },
  {
   "cell_type": "code",
   "execution_count": null,
   "id": "532cad42-d567-4e2d-a5cc-0773076d9a80",
   "metadata": {
    "scrolled": true
   },
   "outputs": [],
   "source": [
    "xs, ys = [], []\n",
    "block_size = 7\n",
    "\n",
    "random.shuffle(words)\n",
    "for w in words:\n",
    "    # print(w)\n",
    "    context = [stoi['.']] * block_size\n",
    "    chs = list(w) + ['.']\n",
    "    for ch in chs:\n",
    "        ix = stoi[ch]\n",
    "        xs.append(context)\n",
    "        ys.append(ix)\n",
    "        # print(''.join(itos[i] for i in context), '---->', itos[ix])\n",
    "        context = context[1:] + [ix]\n",
    "\n",
    "xs = np.array(xs)\n",
    "ys = np.array(ys)"
   ]
  },
  {
   "cell_type": "code",
   "execution_count": null,
   "id": "4dbfc303-5ed2-4f16-8669-e1aa6aa0bf32",
   "metadata": {},
   "outputs": [],
   "source": [
    "model = tf.keras.Sequential([\n",
    "    tf.keras.Input(shape=(block_size,)),\n",
    "    tf.keras.layers.Embedding(len(chars), 16),\n",
    "    tf.keras.layers.Flatten(),\n",
    "    tf.keras.layers.Dense(units=64, activation=None),\n",
    "    tf.keras.layers.LayerNormalization(),\n",
    "    tf.keras.layers.Activation('tanh'),\n",
    "    tf.keras.layers.Dense(units=64, activation=None),\n",
    "    tf.keras.layers.LayerNormalization(),\n",
    "    tf.keras.layers.Activation('tanh'),\n",
    "    tf.keras.layers.Dense(units=64, activation=None),\n",
    "    tf.keras.layers.LayerNormalization(),\n",
    "    tf.keras.layers.Activation('tanh'),\n",
    "    tf.keras.layers.Dense(units=len(chars), activation='softmax')\n",
    "])\n",
    "\n",
    "model.compile(optimizer='adam', loss='categorical_crossentropy', metrics=['accuracy'])\n",
    "model.summary()"
   ]
  },
  {
   "cell_type": "code",
   "execution_count": null,
   "id": "9c3765ed-58b4-4581-a9fe-e2f3f96567d1",
   "metadata": {},
   "outputs": [],
   "source": [
    "y = tf.one_hot(ys, len(chars))\n",
    "model.fit(xs, y, epochs=10, validation_split=0.1, verbose=1);"
   ]
  },
  {
   "cell_type": "code",
   "execution_count": null,
   "id": "77d87957-b314-4b71-bd94-715875515be9",
   "metadata": {},
   "outputs": [],
   "source": [
    "y = tf.one_hot(ys, len(chars))\n",
    "loss, accuracy = model.evaluate(xs, y, verbose=0)\n",
    "print(f'{loss=:.04f} {accuracy=:.04f}')"
   ]
  },
  {
   "cell_type": "code",
   "execution_count": null,
   "id": "24a69624-c411-48b0-b1ce-88517ffd96a0",
   "metadata": {},
   "outputs": [],
   "source": [
    "for i in range(5):\n",
    "    context = ['.'] * block_size\n",
    "    while True:\n",
    "        xi = np.array([[stoi[x] for x in context]])\n",
    "        p = model.predict(xi, verbose=0)[0]\n",
    "        i = np.random.choice(len(chars), p=p)\n",
    "        ch = itos[i]\n",
    "        context = context[1:] + [ch]\n",
    "        print(ch, end='')\n",
    "        if ch == '.':\n",
    "            break\n",
    "    print()"
   ]
  }
 ],
 "metadata": {
  "kernelspec": {
   "display_name": "Python 3 (ipykernel)",
   "language": "python",
   "name": "python3"
  },
  "language_info": {
   "codemirror_mode": {
    "name": "ipython",
    "version": 3
   },
   "file_extension": ".py",
   "mimetype": "text/x-python",
   "name": "python",
   "nbconvert_exporter": "python",
   "pygments_lexer": "ipython3",
   "version": "3.11.9"
  }
 },
 "nbformat": 4,
 "nbformat_minor": 5
}
