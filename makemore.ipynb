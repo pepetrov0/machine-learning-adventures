{
 "cells": [
  {
   "cell_type": "code",
   "execution_count": null,
   "id": "d5343b0b-b032-4663-ab09-2a8c0b275b69",
   "metadata": {},
   "outputs": [],
   "source": [
    "import tensorflow as tf\n",
    "import numpy as np"
   ]
  },
  {
   "cell_type": "code",
   "execution_count": null,
   "id": "eeddd9fc-9e23-4ccb-99b6-17c33ecd5927",
   "metadata": {},
   "outputs": [],
   "source": [
    "words = open('names.txt', 'r').read().splitlines()"
   ]
  },
  {
   "cell_type": "code",
   "execution_count": null,
   "id": "bd978155-b75a-42b7-b635-96f1fba18ecc",
   "metadata": {},
   "outputs": [],
   "source": [
    "chars = sorted(list(set(''.join(words + ['.']))))\n",
    "stoi = {s:i for i,s in enumerate(chars)}\n",
    "itos = {i:s for s,i in stoi.items()}"
   ]
  },
  {
   "cell_type": "code",
   "execution_count": null,
   "id": "532cad42-d567-4e2d-a5cc-0773076d9a80",
   "metadata": {},
   "outputs": [],
   "source": [
    "xs, ys = [], []\n",
    "\n",
    "for w in words:\n",
    "    chs = ['.'] + list(w) + ['.']\n",
    "    for ch1, ch2 in zip(chs, chs[1:]):\n",
    "        ix1 = stoi[ch1]\n",
    "        ix2 = stoi[ch2]\n",
    "        xs.append(ix1)\n",
    "        ys.append(ix2)\n",
    "\n",
    "xs = np.array(xs)\n",
    "ys = np.array(ys)\n",
    "xenc = tf.one_hot(xs, len(chars))\n",
    "yenc = tf.one_hot(ys, len(chars))"
   ]
  },
  {
   "cell_type": "code",
   "execution_count": null,
   "id": "36e83816-7613-4809-9a38-db2183108f10",
   "metadata": {},
   "outputs": [],
   "source": [
    "model = tf.keras.Sequential([\n",
    "    tf.keras.Input(shape=(len(chars),)),\n",
    "    tf.keras.layers.Dense(units=len(chars), activation='softmax')\n",
    "])"
   ]
  },
  {
   "cell_type": "code",
   "execution_count": null,
   "id": "a97e96de-ff82-478a-a422-f4367762fbd4",
   "metadata": {},
   "outputs": [],
   "source": [
    "model.compile(optimizer='adam', loss='categorical_crossentropy', metrics=['accuracy'])"
   ]
  },
  {
   "cell_type": "code",
   "execution_count": null,
   "id": "9c3765ed-58b4-4581-a9fe-e2f3f96567d1",
   "metadata": {},
   "outputs": [],
   "source": [
    "model.fit(xenc, yenc, epochs=10, verbose=1)"
   ]
  },
  {
   "cell_type": "code",
   "execution_count": null,
   "id": "77d87957-b314-4b71-bd94-715875515be9",
   "metadata": {},
   "outputs": [],
   "source": [
    "model.evaluate(xenc, yenc)"
   ]
  },
  {
   "cell_type": "code",
   "execution_count": null,
   "id": "24a69624-c411-48b0-b1ce-88517ffd96a0",
   "metadata": {},
   "outputs": [],
   "source": [
    "for i in range(10):\n",
    "    generated = '.'\n",
    "    while True:\n",
    "        chance = np.random.rand()\n",
    "        genc = tf.one_hot(np.array([stoi[generated[-1]]]), len(chars))\n",
    "        pred = model.predict(genc, verbose=0)[0]\n",
    "        pred = np.cumsum(pred)\n",
    "        index = np.searchsorted(pred, chance)\n",
    "        generated += itos[index]\n",
    "        if generated[-1] == '.':\n",
    "            break\n",
    "    print(generated[1:-1])"
   ]
  }
 ],
 "metadata": {
  "kernelspec": {
   "display_name": "Python 3 (ipykernel)",
   "language": "python",
   "name": "python3"
  },
  "language_info": {
   "codemirror_mode": {
    "name": "ipython",
    "version": 3
   },
   "file_extension": ".py",
   "mimetype": "text/x-python",
   "name": "python",
   "nbconvert_exporter": "python",
   "pygments_lexer": "ipython3",
   "version": "3.11.9"
  }
 },
 "nbformat": 4,
 "nbformat_minor": 5
}
